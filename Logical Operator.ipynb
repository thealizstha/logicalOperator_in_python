{
 "cells": [
  {
   "cell_type": "code",
   "execution_count": 1,
   "id": "f4081f74",
   "metadata": {},
   "outputs": [],
   "source": [
    "#and & \n",
    "#or |"
   ]
  },
  {
   "cell_type": "code",
   "execution_count": 9,
   "id": "3cfe8cf3",
   "metadata": {},
   "outputs": [
    {
     "name": "stdout",
     "output_type": "stream",
     "text": [
      "False\n",
      "True\n",
      "False\n",
      "False\n"
     ]
    }
   ],
   "source": [
    "# and &\n",
    "print(True and False)\n",
    "print(True and True)\n",
    "print(False and True)\n",
    "print(False and False)"
   ]
  },
  {
   "cell_type": "code",
   "execution_count": 10,
   "id": "1ae65bd6",
   "metadata": {
    "scrolled": true
   },
   "outputs": [
    {
     "name": "stdout",
     "output_type": "stream",
     "text": [
      "True\n",
      "True\n",
      "True\n",
      "False\n"
     ]
    }
   ],
   "source": [
    "# or |\n",
    "print(True or False)\n",
    "print(True or True)\n",
    "print(False or True)\n",
    "print(False or False)"
   ]
  },
  {
   "cell_type": "code",
   "execution_count": 15,
   "id": "d1801580",
   "metadata": {},
   "outputs": [
    {
     "name": "stdout",
     "output_type": "stream",
     "text": [
      "Enter physics marks = 88\n",
      "Enter chemistry marks = 87\n",
      "Enter math marks = 96\n",
      "Total =  271\n",
      "Percent =  90.33333333333333\n",
      "Grade  A\n"
     ]
    }
   ],
   "source": [
    "physics = int(input(\"Enter physics marks = \"))\n",
    "chemistry = int(input(\"Enter chemistry marks = \"))\n",
    "math = int(input(\"Enter math marks = \"))\n",
    "\n",
    "if physics>=32 and chemistry >=32 and math>=32:\n",
    "    total = physics+chemistry+math\n",
    "    per = total/3\n",
    "    if per >80 or per == 80:\n",
    "        grade = \"A\"\n",
    "    elif per >= 60:\n",
    "        grade = \"B\"\n",
    "    elif per >= 45:\n",
    "        grade = \"C\"\n",
    "    else:\n",
    "        grade = \"F\"\n",
    "    print(\"Total = \",total)\n",
    "    print(\"Percent = \",per)\n",
    "    print(\"Grade \", grade)\n",
    "else:\n",
    "    print(\"You are failed\")"
   ]
  },
  {
   "cell_type": "code",
   "execution_count": null,
   "id": "190e6167",
   "metadata": {},
   "outputs": [],
   "source": []
  }
 ],
 "metadata": {
  "kernelspec": {
   "display_name": "Python 3 (ipykernel)",
   "language": "python",
   "name": "python3"
  },
  "language_info": {
   "codemirror_mode": {
    "name": "ipython",
    "version": 3
   },
   "file_extension": ".py",
   "mimetype": "text/x-python",
   "name": "python",
   "nbconvert_exporter": "python",
   "pygments_lexer": "ipython3",
   "version": "3.9.13"
  }
 },
 "nbformat": 4,
 "nbformat_minor": 5
}
